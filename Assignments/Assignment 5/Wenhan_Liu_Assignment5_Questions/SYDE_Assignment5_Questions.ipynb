{
  "nbformat": 4,
  "nbformat_minor": 0,
  "metadata": {
    "colab": {
      "name": "SYDE_Assignment5_Questions.ipynb",
      "provenance": [],
      "collapsed_sections": []
    },
    "kernelspec": {
      "name": "python3",
      "display_name": "Python 3"
    },
    "language_info": {
      "name": "python"
    }
  },
  "cells": [
    {
      "cell_type": "markdown",
      "metadata": {
        "id": "CH6uCGDxj54a"
      },
      "source": [
        "Q1.\n",
        "\n",
        "a)When given a stereo pair of cameras, triangulation can be used for computing/determining the 3D position of certain points/pixels in the images, and it requires at least 2 images to work. When on the images that are taken by the stereo pair of cameras, if found some corresponding points, then it means that these points are projected onto the images by the same point in the 3D space. Also, when the camera parameters are known (they are calibrated), the process would be easier.\n",
        "\n",
        "b)When finding the depth, we need to know the calibration of the cameras, which contains the intrinsic matrices and extrinsic matrices for them, the baseline distance T in parallel camera case, and R, t in non-parallel case. And these information are required in order to find the absolute depthfor each point, hence making it not possible to find the abosulte depth without having the calibration information for the cameras."
      ]
    },
    {
      "cell_type": "markdown",
      "metadata": {
        "id": "wSrGx_PZ5S9t"
      },
      "source": [
        "Q2.\n",
        "\n",
        "a)Rectification is the processing of projecting iamges to a common plane. And after rectification, the images would look like they have been taken by cameras only different horizontally, and the epipolar lines for them will all be horizontal, in this way, it's easier to match the features as the search for corresponding points will happen on a horizontal line.\n",
        "\n",
        "b)In order to retify the image pair, we need to know the calibration information of the cameras."
      ]
    },
    {
      "cell_type": "markdown",
      "metadata": {
        "id": "grM3YeV0DjxI"
      },
      "source": [
        "Q3.\n",
        "\n",
        "a)When having multiple cameras, there would exists multiple image planes. And the intersections of baseline with the images planes are the epipoles. And each image plane would have one epipole. And when the epipolar lines are radiating out of a point on the image plane, it's possible that the epipoes are at the same position, and this could mean that the cameras are in forward motion.\n",
        "\n",
        "b)When the epipolar lines converge to a point outside the image plane, they will intersect at some point, and this point would be at infinity. And in this case, it means that when on the image, the lines are parallel to each other.\n",
        "\n",
        "c)When the epipolar lines intersect at multiple points, it's very possible that there are multiple cameras and that could also cause the existance of more than one baseline."
      ]
    },
    {
      "cell_type": "markdown",
      "metadata": {
        "id": "bRMaGFVEoKDi"
      },
      "source": [
        "Q4.\n",
        "\n",
        "a)For this one, the essential matrix and fundamental matrix can both be calculated. It's because that the camera intrinsics would not change. An advantage for depth construction using this set up is that it's easy to implement, and it can normally achieve rather good results. As for the disadvantage, if doing this in a large environemnt for a large object, like a building, then the result may not be good. An application scenario for this may be using this set up to generate a 3D shape of an object on computer by scanning it.\n",
        "\n",
        "b)For this one, the essential matrix and fundamental matrix can both be calculated. It's because that the intrinsics and extrinsics of the cameras are known, and everything is set up, every reqruied parameter, data is known. An advantage for depth construction using this set up is that it may get better result than (a). As for the disadvantage, it's not easy to set up. An application scenario for this may be using it for stereoviews and 3D images/movies.\n",
        "\n",
        "c)For this one, the fundamental matrix can be calculated. Although it's using the same camera, but as the pictures were taken with different lens zoom settings, the camera intrinsics were different, hence only the fundamental matrix. An advantage for depth construction using this set up is that compared with (b), this wholoe process may be much easier to set up, and would be less time consuming. As for the disadvantage, it's not possible to calculate the essential matrix, and the camera is not calibrated. An application scenario for this may be taking photos for depth construction of things in the nature, or under a very spacious environment."
      ]
    }
  ]
}